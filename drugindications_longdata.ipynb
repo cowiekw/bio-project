{
  "nbformat": 4,
  "nbformat_minor": 0,
  "metadata": {
    "colab": {
      "name": "drugindications12/02.ipynb",
      "provenance": [],
      "collapsed_sections": [],
      "authorship_tag": "ABX9TyOkE9GtUiQbe2ZpEJLG03KC",
      "include_colab_link": true
    },
    "kernelspec": {
      "name": "python3",
      "display_name": "Python 3"
    }
  },
  "cells": [
    {
      "cell_type": "markdown",
      "metadata": {
        "id": "view-in-github",
        "colab_type": "text"
      },
      "source": [
        "<a href=\"https://colab.research.google.com/github/cowiekw/bio-project/blob/master/drugindications_longdata.ipynb\" target=\"_parent\"><img src=\"https://colab.research.google.com/assets/colab-badge.svg\" alt=\"Open In Colab\"/></a>"
      ]
    },
    {
      "cell_type": "markdown",
      "metadata": {
        "id": "5j6dC6X6v2QW"
      },
      "source": [
        "Path: \"/Users/katecowie/Documents/fall2020/disease coherence/drug-indications/analysis/lowercase_drug_indications_data.xlsx\""
      ]
    },
    {
      "cell_type": "code",
      "metadata": {
        "id": "2q_kgybRwXCj"
      },
      "source": [
        "import pandas as pd\n",
        "import numpy as np\n",
        "import re"
      ],
      "execution_count": null,
      "outputs": []
    },
    {
      "cell_type": "code",
      "metadata": {
        "colab": {
          "base_uri": "https://localhost:8080/",
          "height": 238
        },
        "id": "ScrhpSeUv0gm",
        "outputId": "625347d0-0e5a-4059-9000-fd32696f7be6"
      },
      "source": [
        "olddf = pd.read_excel(\"lowercase_drug_indications_data.xlsx\")\n",
        "olddf.astype(str)\n",
        "olddf.head()"
      ],
      "execution_count": null,
      "outputs": [
        {
          "output_type": "execute_result",
          "data": {
            "text/html": [
              "<div>\n",
              "<style scoped>\n",
              "    .dataframe tbody tr th:only-of-type {\n",
              "        vertical-align: middle;\n",
              "    }\n",
              "\n",
              "    .dataframe tbody tr th {\n",
              "        vertical-align: top;\n",
              "    }\n",
              "\n",
              "    .dataframe thead th {\n",
              "        text-align: right;\n",
              "    }\n",
              "</style>\n",
              "<table border=\"1\" class=\"dataframe\">\n",
              "  <thead>\n",
              "    <tr style=\"text-align: right;\">\n",
              "      <th></th>\n",
              "      <th>rxcui_in</th>\n",
              "      <th>drug_desc</th>\n",
              "      <th>icd9</th>\n",
              "      <th>indication</th>\n",
              "      <th>possible_label_use</th>\n",
              "    </tr>\n",
              "  </thead>\n",
              "  <tbody>\n",
              "    <tr>\n",
              "      <th>0</th>\n",
              "      <td>85248</td>\n",
              "      <td>alosetron</td>\n",
              "      <td>789.00</td>\n",
              "      <td>Abdominal pain</td>\n",
              "      <td>1</td>\n",
              "    </tr>\n",
              "    <tr>\n",
              "      <th>1</th>\n",
              "      <td>4440</td>\n",
              "      <td>flavoxate</td>\n",
              "      <td>789.09</td>\n",
              "      <td>Abdominal pain; other specified site; multiple...</td>\n",
              "      <td>1</td>\n",
              "    </tr>\n",
              "    <tr>\n",
              "      <th>2</th>\n",
              "      <td>1223</td>\n",
              "      <td>atropine</td>\n",
              "      <td>789.00</td>\n",
              "      <td>Abdominal pain; unspecified site</td>\n",
              "      <td>1</td>\n",
              "    </tr>\n",
              "    <tr>\n",
              "      <th>3</th>\n",
              "      <td>1225</td>\n",
              "      <td>hyoscyamine sulfate</td>\n",
              "      <td>789.00</td>\n",
              "      <td>Abdominal pain; unspecified site</td>\n",
              "      <td>0</td>\n",
              "    </tr>\n",
              "    <tr>\n",
              "      <th>4</th>\n",
              "      <td>1851</td>\n",
              "      <td>butylscopolamine bromide</td>\n",
              "      <td>789.00</td>\n",
              "      <td>Abdominal pain; unspecified site</td>\n",
              "      <td>1</td>\n",
              "    </tr>\n",
              "  </tbody>\n",
              "</table>\n",
              "</div>"
            ],
            "text/plain": [
              "   rxcui_in  ... possible_label_use\n",
              "0     85248  ...                  1\n",
              "1      4440  ...                  1\n",
              "2      1223  ...                  1\n",
              "3      1225  ...                  0\n",
              "4      1851  ...                  1\n",
              "\n",
              "[5 rows x 5 columns]"
            ]
          },
          "metadata": {
            "tags": []
          },
          "execution_count": 10
        }
      ]
    },
    {
      "cell_type": "code",
      "metadata": {
        "colab": {
          "base_uri": "https://localhost:8080/",
          "height": 204
        },
        "id": "kY2S2IACxArs",
        "outputId": "d6f5fe0f-3beb-4412-8456-5345f5f5bc74"
      },
      "source": [
        "drug_ind = olddf[[\"indication\",\"drug_desc\"]]\n",
        "drug_ind.head()"
      ],
      "execution_count": null,
      "outputs": [
        {
          "output_type": "execute_result",
          "data": {
            "text/html": [
              "<div>\n",
              "<style scoped>\n",
              "    .dataframe tbody tr th:only-of-type {\n",
              "        vertical-align: middle;\n",
              "    }\n",
              "\n",
              "    .dataframe tbody tr th {\n",
              "        vertical-align: top;\n",
              "    }\n",
              "\n",
              "    .dataframe thead th {\n",
              "        text-align: right;\n",
              "    }\n",
              "</style>\n",
              "<table border=\"1\" class=\"dataframe\">\n",
              "  <thead>\n",
              "    <tr style=\"text-align: right;\">\n",
              "      <th></th>\n",
              "      <th>indication</th>\n",
              "      <th>drug_desc</th>\n",
              "    </tr>\n",
              "  </thead>\n",
              "  <tbody>\n",
              "    <tr>\n",
              "      <th>0</th>\n",
              "      <td>Abdominal pain</td>\n",
              "      <td>alosetron</td>\n",
              "    </tr>\n",
              "    <tr>\n",
              "      <th>1</th>\n",
              "      <td>Abdominal pain; other specified site; multiple...</td>\n",
              "      <td>flavoxate</td>\n",
              "    </tr>\n",
              "    <tr>\n",
              "      <th>2</th>\n",
              "      <td>Abdominal pain; unspecified site</td>\n",
              "      <td>atropine</td>\n",
              "    </tr>\n",
              "    <tr>\n",
              "      <th>3</th>\n",
              "      <td>Abdominal pain; unspecified site</td>\n",
              "      <td>hyoscyamine sulfate</td>\n",
              "    </tr>\n",
              "    <tr>\n",
              "      <th>4</th>\n",
              "      <td>Abdominal pain; unspecified site</td>\n",
              "      <td>butylscopolamine bromide</td>\n",
              "    </tr>\n",
              "  </tbody>\n",
              "</table>\n",
              "</div>"
            ],
            "text/plain": [
              "                                          indication                 drug_desc\n",
              "0                                     Abdominal pain                 alosetron\n",
              "1  Abdominal pain; other specified site; multiple...                 flavoxate\n",
              "2                   Abdominal pain; unspecified site                  atropine\n",
              "3                   Abdominal pain; unspecified site       hyoscyamine sulfate\n",
              "4                   Abdominal pain; unspecified site  butylscopolamine bromide"
            ]
          },
          "metadata": {
            "tags": []
          },
          "execution_count": 12
        }
      ]
    },
    {
      "cell_type": "markdown",
      "metadata": {
        "id": "EhE6FUcsyV3a"
      },
      "source": [
        "### Subset the dataframe to get indications and icd9 codes. "
      ]
    },
    {
      "cell_type": "code",
      "metadata": {
        "id": "xl9IzSK4x6z7"
      },
      "source": [
        "icd_ind = olddf[[\"indication\",\"icd9\"]]\n",
        "icd_ind =icd_ind.astype(str)"
      ],
      "execution_count": null,
      "outputs": []
    },
    {
      "cell_type": "code",
      "metadata": {
        "colab": {
          "base_uri": "https://localhost:8080/",
          "height": 204
        },
        "id": "E-plOjrdyM_a",
        "outputId": "9b8941cb-3284-47be-f7c8-049a525de1f9"
      },
      "source": [
        "icddf = icd_ind.groupby('indication').agg(lambda x: ','.join(x.unique())).reset_index()\n",
        "icddf.head()"
      ],
      "execution_count": null,
      "outputs": [
        {
          "output_type": "execute_result",
          "data": {
            "text/html": [
              "<div>\n",
              "<style scoped>\n",
              "    .dataframe tbody tr th:only-of-type {\n",
              "        vertical-align: middle;\n",
              "    }\n",
              "\n",
              "    .dataframe tbody tr th {\n",
              "        vertical-align: top;\n",
              "    }\n",
              "\n",
              "    .dataframe thead th {\n",
              "        text-align: right;\n",
              "    }\n",
              "</style>\n",
              "<table border=\"1\" class=\"dataframe\">\n",
              "  <thead>\n",
              "    <tr style=\"text-align: right;\">\n",
              "      <th></th>\n",
              "      <th>indication</th>\n",
              "      <th>icd9</th>\n",
              "    </tr>\n",
              "  </thead>\n",
              "  <tbody>\n",
              "    <tr>\n",
              "      <th>0</th>\n",
              "      <td>Abdominal pain</td>\n",
              "      <td>789.0</td>\n",
              "    </tr>\n",
              "    <tr>\n",
              "      <th>1</th>\n",
              "      <td>Abdominal pain; other specified site; multiple...</td>\n",
              "      <td>789.09</td>\n",
              "    </tr>\n",
              "    <tr>\n",
              "      <th>2</th>\n",
              "      <td>Abdominal pain; unspecified site</td>\n",
              "      <td>789.0</td>\n",
              "    </tr>\n",
              "    <tr>\n",
              "      <th>3</th>\n",
              "      <td>Abnormal feces</td>\n",
              "      <td>787.7</td>\n",
              "    </tr>\n",
              "    <tr>\n",
              "      <th>4</th>\n",
              "      <td>Abnormal involuntary movements</td>\n",
              "      <td>781.0</td>\n",
              "    </tr>\n",
              "  </tbody>\n",
              "</table>\n",
              "</div>"
            ],
            "text/plain": [
              "                                          indication    icd9\n",
              "0                                     Abdominal pain   789.0\n",
              "1  Abdominal pain; other specified site; multiple...  789.09\n",
              "2                   Abdominal pain; unspecified site   789.0\n",
              "3                                     Abnormal feces   787.7\n",
              "4                     Abnormal involuntary movements   781.0"
            ]
          },
          "metadata": {
            "tags": []
          },
          "execution_count": 22
        }
      ]
    },
    {
      "cell_type": "markdown",
      "metadata": {
        "id": "57NJkVh7whMq"
      },
      "source": [
        "### Group by each unique indication and all of the drug names."
      ]
    },
    {
      "cell_type": "code",
      "metadata": {
        "id": "crALp1TNFovx"
      },
      "source": [
        ""
      ],
      "execution_count": null,
      "outputs": []
    },
    {
      "cell_type": "code",
      "metadata": {
        "colab": {
          "base_uri": "https://localhost:8080/",
          "height": 204
        },
        "id": "U3Nui9fXwvt_",
        "outputId": "5215ccff-f74d-4e3f-fc84-5cb3022315cb"
      },
      "source": [
        "newdf = drug_ind.groupby('indication').agg(lambda x: ','.join(x.unique())).reset_index()\n",
        "newdf.head()"
      ],
      "execution_count": null,
      "outputs": [
        {
          "output_type": "execute_result",
          "data": {
            "text/html": [
              "<div>\n",
              "<style scoped>\n",
              "    .dataframe tbody tr th:only-of-type {\n",
              "        vertical-align: middle;\n",
              "    }\n",
              "\n",
              "    .dataframe tbody tr th {\n",
              "        vertical-align: top;\n",
              "    }\n",
              "\n",
              "    .dataframe thead th {\n",
              "        text-align: right;\n",
              "    }\n",
              "</style>\n",
              "<table border=\"1\" class=\"dataframe\">\n",
              "  <thead>\n",
              "    <tr style=\"text-align: right;\">\n",
              "      <th></th>\n",
              "      <th>indication</th>\n",
              "      <th>drug_desc</th>\n",
              "    </tr>\n",
              "  </thead>\n",
              "  <tbody>\n",
              "    <tr>\n",
              "      <th>0</th>\n",
              "      <td>Abdominal pain</td>\n",
              "      <td>alosetron</td>\n",
              "    </tr>\n",
              "    <tr>\n",
              "      <th>1</th>\n",
              "      <td>Abdominal pain; other specified site; multiple...</td>\n",
              "      <td>flavoxate</td>\n",
              "    </tr>\n",
              "    <tr>\n",
              "      <th>2</th>\n",
              "      <td>Abdominal pain; unspecified site</td>\n",
              "      <td>atropine,hyoscyamine sulfate,butylscopolamine ...</td>\n",
              "    </tr>\n",
              "    <tr>\n",
              "      <th>3</th>\n",
              "      <td>Abnormal feces</td>\n",
              "      <td>activated charcoal,atropine,charcoal,cholestyr...</td>\n",
              "    </tr>\n",
              "    <tr>\n",
              "      <th>4</th>\n",
              "      <td>Abnormal involuntary movements</td>\n",
              "      <td>atropine,hyoscyamine sulfate,baclofen,belladon...</td>\n",
              "    </tr>\n",
              "  </tbody>\n",
              "</table>\n",
              "</div>"
            ],
            "text/plain": [
              "                                          indication                                          drug_desc\n",
              "0                                     Abdominal pain                                          alosetron\n",
              "1  Abdominal pain; other specified site; multiple...                                          flavoxate\n",
              "2                   Abdominal pain; unspecified site  atropine,hyoscyamine sulfate,butylscopolamine ...\n",
              "3                                     Abnormal feces  activated charcoal,atropine,charcoal,cholestyr...\n",
              "4                     Abnormal involuntary movements  atropine,hyoscyamine sulfate,baclofen,belladon..."
            ]
          },
          "metadata": {
            "tags": []
          },
          "execution_count": 16
        }
      ]
    },
    {
      "cell_type": "code",
      "metadata": {
        "colab": {
          "base_uri": "https://localhost:8080/"
        },
        "id": "MqerfWLkx_Iq",
        "outputId": "eebf1556-6481-40fc-b993-84ed7d12b990"
      },
      "source": [
        "mergedf = icddf.merge(newdf, how='inner', on='indication')\n",
        "len(mergedf)"
      ],
      "execution_count": null,
      "outputs": [
        {
          "output_type": "execute_result",
          "data": {
            "text/plain": [
              "76"
            ]
          },
          "metadata": {
            "tags": []
          },
          "execution_count": 34
        }
      ]
    },
    {
      "cell_type": "markdown",
      "metadata": {
        "id": "ej4j9uoq68kQ"
      },
      "source": [
        "## Add # of Drugs per Indication"
      ]
    },
    {
      "cell_type": "code",
      "metadata": {
        "colab": {
          "base_uri": "https://localhost:8080/",
          "height": 204
        },
        "id": "ssVrsDQq68Mn",
        "outputId": "8f92d165-d01d-481f-e8cc-ec35cb9720d7"
      },
      "source": [
        "numdf = pd.read_excel(\"n_indicatios_2.xlsx\")\n",
        "numdf.tail()"
      ],
      "execution_count": null,
      "outputs": [
        {
          "output_type": "execute_result",
          "data": {
            "text/html": [
              "<div>\n",
              "<style scoped>\n",
              "    .dataframe tbody tr th:only-of-type {\n",
              "        vertical-align: middle;\n",
              "    }\n",
              "\n",
              "    .dataframe tbody tr th {\n",
              "        vertical-align: top;\n",
              "    }\n",
              "\n",
              "    .dataframe thead th {\n",
              "        text-align: right;\n",
              "    }\n",
              "</style>\n",
              "<table border=\"1\" class=\"dataframe\">\n",
              "  <thead>\n",
              "    <tr style=\"text-align: right;\">\n",
              "      <th></th>\n",
              "      <th>indication</th>\n",
              "      <th>n()</th>\n",
              "    </tr>\n",
              "  </thead>\n",
              "  <tbody>\n",
              "    <tr>\n",
              "      <th>71</th>\n",
              "      <td>Amyloidosis NOS</td>\n",
              "      <td>2</td>\n",
              "    </tr>\n",
              "    <tr>\n",
              "      <th>72</th>\n",
              "      <td>Amyotrophic lateral sclerosis</td>\n",
              "      <td>3</td>\n",
              "    </tr>\n",
              "    <tr>\n",
              "      <th>73</th>\n",
              "      <td>Anal fissure</td>\n",
              "      <td>10</td>\n",
              "    </tr>\n",
              "    <tr>\n",
              "      <th>74</th>\n",
              "      <td>Anatomical narrow angle borderline glaucoma</td>\n",
              "      <td>6</td>\n",
              "    </tr>\n",
              "    <tr>\n",
              "      <th>75</th>\n",
              "      <td>Ancylostomiasis NOS</td>\n",
              "      <td>1</td>\n",
              "    </tr>\n",
              "  </tbody>\n",
              "</table>\n",
              "</div>"
            ],
            "text/plain": [
              "                                     indication  n()\n",
              "71                              Amyloidosis NOS    2\n",
              "72                Amyotrophic lateral sclerosis    3\n",
              "73                                 Anal fissure   10\n",
              "74  Anatomical narrow angle borderline glaucoma    6\n",
              "75                          Ancylostomiasis NOS    1"
            ]
          },
          "metadata": {
            "tags": []
          },
          "execution_count": 35
        }
      ]
    },
    {
      "cell_type": "code",
      "metadata": {
        "colab": {
          "base_uri": "https://localhost:8080/",
          "height": 204
        },
        "id": "I5__yvLa7MYR",
        "outputId": "ad3e0912-3fa2-4cec-974e-66108a309939"
      },
      "source": [
        "df= mergedf.merge(numdf, how='left', on='indication')\n",
        "df.head()"
      ],
      "execution_count": null,
      "outputs": [
        {
          "output_type": "execute_result",
          "data": {
            "text/html": [
              "<div>\n",
              "<style scoped>\n",
              "    .dataframe tbody tr th:only-of-type {\n",
              "        vertical-align: middle;\n",
              "    }\n",
              "\n",
              "    .dataframe tbody tr th {\n",
              "        vertical-align: top;\n",
              "    }\n",
              "\n",
              "    .dataframe thead th {\n",
              "        text-align: right;\n",
              "    }\n",
              "</style>\n",
              "<table border=\"1\" class=\"dataframe\">\n",
              "  <thead>\n",
              "    <tr style=\"text-align: right;\">\n",
              "      <th></th>\n",
              "      <th>indication</th>\n",
              "      <th>icd9</th>\n",
              "      <th>drug_desc</th>\n",
              "      <th>n()</th>\n",
              "    </tr>\n",
              "  </thead>\n",
              "  <tbody>\n",
              "    <tr>\n",
              "      <th>0</th>\n",
              "      <td>Abdominal pain</td>\n",
              "      <td>789.0</td>\n",
              "      <td>alosetron</td>\n",
              "      <td>1</td>\n",
              "    </tr>\n",
              "    <tr>\n",
              "      <th>1</th>\n",
              "      <td>Abdominal pain; other specified site; multiple...</td>\n",
              "      <td>789.09</td>\n",
              "      <td>flavoxate</td>\n",
              "      <td>1</td>\n",
              "    </tr>\n",
              "    <tr>\n",
              "      <th>2</th>\n",
              "      <td>Abdominal pain; unspecified site</td>\n",
              "      <td>789.0</td>\n",
              "      <td>atropine,hyoscyamine sulfate,butylscopolamine ...</td>\n",
              "      <td>9</td>\n",
              "    </tr>\n",
              "    <tr>\n",
              "      <th>3</th>\n",
              "      <td>Abnormal feces</td>\n",
              "      <td>787.7</td>\n",
              "      <td>activated charcoal,atropine,charcoal,cholestyr...</td>\n",
              "      <td>38</td>\n",
              "    </tr>\n",
              "    <tr>\n",
              "      <th>4</th>\n",
              "      <td>Abnormal involuntary movements</td>\n",
              "      <td>781.0</td>\n",
              "      <td>atropine,hyoscyamine sulfate,baclofen,belladon...</td>\n",
              "      <td>49</td>\n",
              "    </tr>\n",
              "  </tbody>\n",
              "</table>\n",
              "</div>"
            ],
            "text/plain": [
              "                                          indication  ... n()\n",
              "0                                     Abdominal pain  ...   1\n",
              "1  Abdominal pain; other specified site; multiple...  ...   1\n",
              "2                   Abdominal pain; unspecified site  ...   9\n",
              "3                                     Abnormal feces  ...  38\n",
              "4                     Abnormal involuntary movements  ...  49\n",
              "\n",
              "[5 rows x 4 columns]"
            ]
          },
          "metadata": {
            "tags": []
          },
          "execution_count": 68
        }
      ]
    },
    {
      "cell_type": "code",
      "metadata": {
        "id": "plFmbVfS8PvV"
      },
      "source": [
        "df.to_excel(\"drug_indications_reformat.xlsx\", index=False)"
      ],
      "execution_count": null,
      "outputs": []
    },
    {
      "cell_type": "markdown",
      "metadata": {
        "id": "ZFWDGlpeEPIs"
      },
      "source": [
        "Split the drug desc column"
      ]
    },
    {
      "cell_type": "code",
      "metadata": {
        "colab": {
          "base_uri": "https://localhost:8080/",
          "height": 204
        },
        "id": "u2hJQ7TiCR5p",
        "outputId": "48eb3b49-83ce-405e-fd6a-df846686ab30"
      },
      "source": [
        "df.head()"
      ],
      "execution_count": null,
      "outputs": [
        {
          "output_type": "execute_result",
          "data": {
            "text/html": [
              "<div>\n",
              "<style scoped>\n",
              "    .dataframe tbody tr th:only-of-type {\n",
              "        vertical-align: middle;\n",
              "    }\n",
              "\n",
              "    .dataframe tbody tr th {\n",
              "        vertical-align: top;\n",
              "    }\n",
              "\n",
              "    .dataframe thead th {\n",
              "        text-align: right;\n",
              "    }\n",
              "</style>\n",
              "<table border=\"1\" class=\"dataframe\">\n",
              "  <thead>\n",
              "    <tr style=\"text-align: right;\">\n",
              "      <th></th>\n",
              "      <th>indication</th>\n",
              "      <th>icd9</th>\n",
              "      <th>drug_desc</th>\n",
              "      <th>n()</th>\n",
              "    </tr>\n",
              "  </thead>\n",
              "  <tbody>\n",
              "    <tr>\n",
              "      <th>0</th>\n",
              "      <td>Abdominal pain</td>\n",
              "      <td>789.0</td>\n",
              "      <td>alosetron</td>\n",
              "      <td>1</td>\n",
              "    </tr>\n",
              "    <tr>\n",
              "      <th>1</th>\n",
              "      <td>Abdominal pain; other specified site; multiple...</td>\n",
              "      <td>789.09</td>\n",
              "      <td>flavoxate</td>\n",
              "      <td>1</td>\n",
              "    </tr>\n",
              "    <tr>\n",
              "      <th>2</th>\n",
              "      <td>Abdominal pain; unspecified site</td>\n",
              "      <td>789.0</td>\n",
              "      <td>atropine,hyoscyamine sulfate,butylscopolamine ...</td>\n",
              "      <td>9</td>\n",
              "    </tr>\n",
              "    <tr>\n",
              "      <th>3</th>\n",
              "      <td>Abnormal feces</td>\n",
              "      <td>787.7</td>\n",
              "      <td>activated charcoal,atropine,charcoal,cholestyr...</td>\n",
              "      <td>38</td>\n",
              "    </tr>\n",
              "    <tr>\n",
              "      <th>4</th>\n",
              "      <td>Abnormal involuntary movements</td>\n",
              "      <td>781.0</td>\n",
              "      <td>atropine,hyoscyamine sulfate,baclofen,belladon...</td>\n",
              "      <td>49</td>\n",
              "    </tr>\n",
              "  </tbody>\n",
              "</table>\n",
              "</div>"
            ],
            "text/plain": [
              "                                          indication  ... n()\n",
              "0                                     Abdominal pain  ...   1\n",
              "1  Abdominal pain; other specified site; multiple...  ...   1\n",
              "2                   Abdominal pain; unspecified site  ...   9\n",
              "3                                     Abnormal feces  ...  38\n",
              "4                     Abnormal involuntary movements  ...  49\n",
              "\n",
              "[5 rows x 4 columns]"
            ]
          },
          "metadata": {
            "tags": []
          },
          "execution_count": 69
        }
      ]
    },
    {
      "cell_type": "code",
      "metadata": {
        "id": "E3NT17m9CM5D"
      },
      "source": [
        "df=pd.concat([df,df.drug_desc.str.split(',',expand=True)],1)\n",
        "df.head()"
      ],
      "execution_count": null,
      "outputs": []
    },
    {
      "cell_type": "code",
      "metadata": {
        "id": "eC2dfoVSCnzt"
      },
      "source": [
        "longdf = df.astype(str)"
      ],
      "execution_count": null,
      "outputs": []
    },
    {
      "cell_type": "markdown",
      "metadata": {
        "id": "SsYpHuGqDKcy"
      },
      "source": [
        "## Make empty data NUll\n"
      ]
    },
    {
      "cell_type": "code",
      "metadata": {
        "colab": {
          "base_uri": "https://localhost:8080/",
          "height": 423
        },
        "id": "NJh5Ol58Clex",
        "outputId": "6a8c1340-5843-4942-8302-d62948c6f1a0"
      },
      "source": [
        "NaN = float(\"NaN\")\n",
        "longdf.replace(\"None\", NaN, inplace=True)\n",
        "longdf.head()"
      ],
      "execution_count": null,
      "outputs": [
        {
          "output_type": "execute_result",
          "data": {
            "text/html": [
              "<div>\n",
              "<style scoped>\n",
              "    .dataframe tbody tr th:only-of-type {\n",
              "        vertical-align: middle;\n",
              "    }\n",
              "\n",
              "    .dataframe tbody tr th {\n",
              "        vertical-align: top;\n",
              "    }\n",
              "\n",
              "    .dataframe thead th {\n",
              "        text-align: right;\n",
              "    }\n",
              "</style>\n",
              "<table border=\"1\" class=\"dataframe\">\n",
              "  <thead>\n",
              "    <tr style=\"text-align: right;\">\n",
              "      <th></th>\n",
              "      <th>indication</th>\n",
              "      <th>icd9</th>\n",
              "      <th>drug_desc</th>\n",
              "      <th>n()</th>\n",
              "      <th>0</th>\n",
              "      <th>1</th>\n",
              "      <th>2</th>\n",
              "      <th>3</th>\n",
              "      <th>4</th>\n",
              "      <th>5</th>\n",
              "      <th>6</th>\n",
              "      <th>7</th>\n",
              "      <th>8</th>\n",
              "      <th>9</th>\n",
              "      <th>10</th>\n",
              "      <th>11</th>\n",
              "      <th>12</th>\n",
              "      <th>13</th>\n",
              "      <th>14</th>\n",
              "      <th>15</th>\n",
              "      <th>16</th>\n",
              "      <th>17</th>\n",
              "      <th>18</th>\n",
              "      <th>19</th>\n",
              "      <th>20</th>\n",
              "      <th>21</th>\n",
              "      <th>22</th>\n",
              "      <th>23</th>\n",
              "      <th>24</th>\n",
              "      <th>25</th>\n",
              "      <th>26</th>\n",
              "      <th>27</th>\n",
              "      <th>28</th>\n",
              "      <th>29</th>\n",
              "      <th>30</th>\n",
              "      <th>31</th>\n",
              "      <th>32</th>\n",
              "      <th>33</th>\n",
              "      <th>34</th>\n",
              "      <th>35</th>\n",
              "      <th>...</th>\n",
              "      <th>74</th>\n",
              "      <th>75</th>\n",
              "      <th>76</th>\n",
              "      <th>77</th>\n",
              "      <th>78</th>\n",
              "      <th>79</th>\n",
              "      <th>80</th>\n",
              "      <th>81</th>\n",
              "      <th>82</th>\n",
              "      <th>83</th>\n",
              "      <th>84</th>\n",
              "      <th>85</th>\n",
              "      <th>86</th>\n",
              "      <th>87</th>\n",
              "      <th>88</th>\n",
              "      <th>89</th>\n",
              "      <th>90</th>\n",
              "      <th>91</th>\n",
              "      <th>92</th>\n",
              "      <th>93</th>\n",
              "      <th>94</th>\n",
              "      <th>95</th>\n",
              "      <th>96</th>\n",
              "      <th>97</th>\n",
              "      <th>98</th>\n",
              "      <th>99</th>\n",
              "      <th>100</th>\n",
              "      <th>101</th>\n",
              "      <th>102</th>\n",
              "      <th>103</th>\n",
              "      <th>104</th>\n",
              "      <th>105</th>\n",
              "      <th>106</th>\n",
              "      <th>107</th>\n",
              "      <th>108</th>\n",
              "      <th>109</th>\n",
              "      <th>110</th>\n",
              "      <th>111</th>\n",
              "      <th>112</th>\n",
              "      <th>113</th>\n",
              "    </tr>\n",
              "  </thead>\n",
              "  <tbody>\n",
              "    <tr>\n",
              "      <th>0</th>\n",
              "      <td>Abdominal pain</td>\n",
              "      <td>789.0</td>\n",
              "      <td>alosetron</td>\n",
              "      <td>1</td>\n",
              "      <td>alosetron</td>\n",
              "      <td>NaN</td>\n",
              "      <td>NaN</td>\n",
              "      <td>NaN</td>\n",
              "      <td>NaN</td>\n",
              "      <td>NaN</td>\n",
              "      <td>NaN</td>\n",
              "      <td>NaN</td>\n",
              "      <td>NaN</td>\n",
              "      <td>NaN</td>\n",
              "      <td>NaN</td>\n",
              "      <td>NaN</td>\n",
              "      <td>NaN</td>\n",
              "      <td>NaN</td>\n",
              "      <td>NaN</td>\n",
              "      <td>NaN</td>\n",
              "      <td>NaN</td>\n",
              "      <td>NaN</td>\n",
              "      <td>NaN</td>\n",
              "      <td>NaN</td>\n",
              "      <td>NaN</td>\n",
              "      <td>NaN</td>\n",
              "      <td>NaN</td>\n",
              "      <td>NaN</td>\n",
              "      <td>NaN</td>\n",
              "      <td>NaN</td>\n",
              "      <td>NaN</td>\n",
              "      <td>NaN</td>\n",
              "      <td>NaN</td>\n",
              "      <td>NaN</td>\n",
              "      <td>NaN</td>\n",
              "      <td>NaN</td>\n",
              "      <td>NaN</td>\n",
              "      <td>NaN</td>\n",
              "      <td>NaN</td>\n",
              "      <td>NaN</td>\n",
              "      <td>...</td>\n",
              "      <td>NaN</td>\n",
              "      <td>NaN</td>\n",
              "      <td>NaN</td>\n",
              "      <td>NaN</td>\n",
              "      <td>NaN</td>\n",
              "      <td>NaN</td>\n",
              "      <td>NaN</td>\n",
              "      <td>NaN</td>\n",
              "      <td>NaN</td>\n",
              "      <td>NaN</td>\n",
              "      <td>NaN</td>\n",
              "      <td>NaN</td>\n",
              "      <td>NaN</td>\n",
              "      <td>NaN</td>\n",
              "      <td>NaN</td>\n",
              "      <td>NaN</td>\n",
              "      <td>NaN</td>\n",
              "      <td>NaN</td>\n",
              "      <td>NaN</td>\n",
              "      <td>NaN</td>\n",
              "      <td>NaN</td>\n",
              "      <td>NaN</td>\n",
              "      <td>NaN</td>\n",
              "      <td>NaN</td>\n",
              "      <td>NaN</td>\n",
              "      <td>NaN</td>\n",
              "      <td>NaN</td>\n",
              "      <td>NaN</td>\n",
              "      <td>NaN</td>\n",
              "      <td>NaN</td>\n",
              "      <td>NaN</td>\n",
              "      <td>NaN</td>\n",
              "      <td>NaN</td>\n",
              "      <td>NaN</td>\n",
              "      <td>NaN</td>\n",
              "      <td>NaN</td>\n",
              "      <td>NaN</td>\n",
              "      <td>NaN</td>\n",
              "      <td>NaN</td>\n",
              "      <td>NaN</td>\n",
              "    </tr>\n",
              "    <tr>\n",
              "      <th>1</th>\n",
              "      <td>Abdominal pain; other specified site; multiple...</td>\n",
              "      <td>789.09</td>\n",
              "      <td>flavoxate</td>\n",
              "      <td>1</td>\n",
              "      <td>flavoxate</td>\n",
              "      <td>NaN</td>\n",
              "      <td>NaN</td>\n",
              "      <td>NaN</td>\n",
              "      <td>NaN</td>\n",
              "      <td>NaN</td>\n",
              "      <td>NaN</td>\n",
              "      <td>NaN</td>\n",
              "      <td>NaN</td>\n",
              "      <td>NaN</td>\n",
              "      <td>NaN</td>\n",
              "      <td>NaN</td>\n",
              "      <td>NaN</td>\n",
              "      <td>NaN</td>\n",
              "      <td>NaN</td>\n",
              "      <td>NaN</td>\n",
              "      <td>NaN</td>\n",
              "      <td>NaN</td>\n",
              "      <td>NaN</td>\n",
              "      <td>NaN</td>\n",
              "      <td>NaN</td>\n",
              "      <td>NaN</td>\n",
              "      <td>NaN</td>\n",
              "      <td>NaN</td>\n",
              "      <td>NaN</td>\n",
              "      <td>NaN</td>\n",
              "      <td>NaN</td>\n",
              "      <td>NaN</td>\n",
              "      <td>NaN</td>\n",
              "      <td>NaN</td>\n",
              "      <td>NaN</td>\n",
              "      <td>NaN</td>\n",
              "      <td>NaN</td>\n",
              "      <td>NaN</td>\n",
              "      <td>NaN</td>\n",
              "      <td>NaN</td>\n",
              "      <td>...</td>\n",
              "      <td>NaN</td>\n",
              "      <td>NaN</td>\n",
              "      <td>NaN</td>\n",
              "      <td>NaN</td>\n",
              "      <td>NaN</td>\n",
              "      <td>NaN</td>\n",
              "      <td>NaN</td>\n",
              "      <td>NaN</td>\n",
              "      <td>NaN</td>\n",
              "      <td>NaN</td>\n",
              "      <td>NaN</td>\n",
              "      <td>NaN</td>\n",
              "      <td>NaN</td>\n",
              "      <td>NaN</td>\n",
              "      <td>NaN</td>\n",
              "      <td>NaN</td>\n",
              "      <td>NaN</td>\n",
              "      <td>NaN</td>\n",
              "      <td>NaN</td>\n",
              "      <td>NaN</td>\n",
              "      <td>NaN</td>\n",
              "      <td>NaN</td>\n",
              "      <td>NaN</td>\n",
              "      <td>NaN</td>\n",
              "      <td>NaN</td>\n",
              "      <td>NaN</td>\n",
              "      <td>NaN</td>\n",
              "      <td>NaN</td>\n",
              "      <td>NaN</td>\n",
              "      <td>NaN</td>\n",
              "      <td>NaN</td>\n",
              "      <td>NaN</td>\n",
              "      <td>NaN</td>\n",
              "      <td>NaN</td>\n",
              "      <td>NaN</td>\n",
              "      <td>NaN</td>\n",
              "      <td>NaN</td>\n",
              "      <td>NaN</td>\n",
              "      <td>NaN</td>\n",
              "      <td>NaN</td>\n",
              "    </tr>\n",
              "    <tr>\n",
              "      <th>2</th>\n",
              "      <td>Abdominal pain; unspecified site</td>\n",
              "      <td>789.0</td>\n",
              "      <td>atropine,hyoscyamine sulfate,butylscopolamine ...</td>\n",
              "      <td>9</td>\n",
              "      <td>atropine</td>\n",
              "      <td>hyoscyamine sulfate</td>\n",
              "      <td>butylscopolamine bromide</td>\n",
              "      <td>papaverine</td>\n",
              "      <td>alosetron</td>\n",
              "      <td>tegaserod</td>\n",
              "      <td>hyoscyamine</td>\n",
              "      <td>pentosan polysulfate</td>\n",
              "      <td>hyoscyamine hydrobromide</td>\n",
              "      <td>NaN</td>\n",
              "      <td>NaN</td>\n",
              "      <td>NaN</td>\n",
              "      <td>NaN</td>\n",
              "      <td>NaN</td>\n",
              "      <td>NaN</td>\n",
              "      <td>NaN</td>\n",
              "      <td>NaN</td>\n",
              "      <td>NaN</td>\n",
              "      <td>NaN</td>\n",
              "      <td>NaN</td>\n",
              "      <td>NaN</td>\n",
              "      <td>NaN</td>\n",
              "      <td>NaN</td>\n",
              "      <td>NaN</td>\n",
              "      <td>NaN</td>\n",
              "      <td>NaN</td>\n",
              "      <td>NaN</td>\n",
              "      <td>NaN</td>\n",
              "      <td>NaN</td>\n",
              "      <td>NaN</td>\n",
              "      <td>NaN</td>\n",
              "      <td>NaN</td>\n",
              "      <td>NaN</td>\n",
              "      <td>NaN</td>\n",
              "      <td>NaN</td>\n",
              "      <td>NaN</td>\n",
              "      <td>...</td>\n",
              "      <td>NaN</td>\n",
              "      <td>NaN</td>\n",
              "      <td>NaN</td>\n",
              "      <td>NaN</td>\n",
              "      <td>NaN</td>\n",
              "      <td>NaN</td>\n",
              "      <td>NaN</td>\n",
              "      <td>NaN</td>\n",
              "      <td>NaN</td>\n",
              "      <td>NaN</td>\n",
              "      <td>NaN</td>\n",
              "      <td>NaN</td>\n",
              "      <td>NaN</td>\n",
              "      <td>NaN</td>\n",
              "      <td>NaN</td>\n",
              "      <td>NaN</td>\n",
              "      <td>NaN</td>\n",
              "      <td>NaN</td>\n",
              "      <td>NaN</td>\n",
              "      <td>NaN</td>\n",
              "      <td>NaN</td>\n",
              "      <td>NaN</td>\n",
              "      <td>NaN</td>\n",
              "      <td>NaN</td>\n",
              "      <td>NaN</td>\n",
              "      <td>NaN</td>\n",
              "      <td>NaN</td>\n",
              "      <td>NaN</td>\n",
              "      <td>NaN</td>\n",
              "      <td>NaN</td>\n",
              "      <td>NaN</td>\n",
              "      <td>NaN</td>\n",
              "      <td>NaN</td>\n",
              "      <td>NaN</td>\n",
              "      <td>NaN</td>\n",
              "      <td>NaN</td>\n",
              "      <td>NaN</td>\n",
              "      <td>NaN</td>\n",
              "      <td>NaN</td>\n",
              "      <td>NaN</td>\n",
              "    </tr>\n",
              "    <tr>\n",
              "      <th>3</th>\n",
              "      <td>Abnormal feces</td>\n",
              "      <td>787.7</td>\n",
              "      <td>activated charcoal,atropine,charcoal,cholestyr...</td>\n",
              "      <td>38</td>\n",
              "      <td>activated charcoal</td>\n",
              "      <td>atropine</td>\n",
              "      <td>charcoal</td>\n",
              "      <td>cholestyramine resin</td>\n",
              "      <td>clonidine</td>\n",
              "      <td>colestipol</td>\n",
              "      <td>diphenoxylate</td>\n",
              "      <td>epinephrine</td>\n",
              "      <td>furazolidone</td>\n",
              "      <td>loperamide</td>\n",
              "      <td>methylcellulose</td>\n",
              "      <td>octreotide</td>\n",
              "      <td>opium</td>\n",
              "      <td>potassium</td>\n",
              "      <td>psyllium</td>\n",
              "      <td>salicylic acid</td>\n",
              "      <td>sulfamethoxazole / trimethoprim</td>\n",
              "      <td>glucomannan</td>\n",
              "      <td>attapulgite</td>\n",
              "      <td>bismuth subsalicylate</td>\n",
              "      <td>calcium polycarbophil</td>\n",
              "      <td>difenoxin</td>\n",
              "      <td>nitazoxanide</td>\n",
              "      <td>paregoric</td>\n",
              "      <td>sodium bicarbonate</td>\n",
              "      <td>diphenoxylate hydrochloride</td>\n",
              "      <td>loperamide hydrochloride</td>\n",
              "      <td>alosetron</td>\n",
              "      <td>malt soup extract</td>\n",
              "      <td>colestipol hydrochloride</td>\n",
              "      <td>colesevelam hydrochloride</td>\n",
              "      <td>colesevelam</td>\n",
              "      <td>clonidine hydrochloride</td>\n",
              "      <td>atropine sulfate</td>\n",
              "      <td>loperamide / simethicone</td>\n",
              "      <td>difenoxin hydrochloride</td>\n",
              "      <td>...</td>\n",
              "      <td>NaN</td>\n",
              "      <td>NaN</td>\n",
              "      <td>NaN</td>\n",
              "      <td>NaN</td>\n",
              "      <td>NaN</td>\n",
              "      <td>NaN</td>\n",
              "      <td>NaN</td>\n",
              "      <td>NaN</td>\n",
              "      <td>NaN</td>\n",
              "      <td>NaN</td>\n",
              "      <td>NaN</td>\n",
              "      <td>NaN</td>\n",
              "      <td>NaN</td>\n",
              "      <td>NaN</td>\n",
              "      <td>NaN</td>\n",
              "      <td>NaN</td>\n",
              "      <td>NaN</td>\n",
              "      <td>NaN</td>\n",
              "      <td>NaN</td>\n",
              "      <td>NaN</td>\n",
              "      <td>NaN</td>\n",
              "      <td>NaN</td>\n",
              "      <td>NaN</td>\n",
              "      <td>NaN</td>\n",
              "      <td>NaN</td>\n",
              "      <td>NaN</td>\n",
              "      <td>NaN</td>\n",
              "      <td>NaN</td>\n",
              "      <td>NaN</td>\n",
              "      <td>NaN</td>\n",
              "      <td>NaN</td>\n",
              "      <td>NaN</td>\n",
              "      <td>NaN</td>\n",
              "      <td>NaN</td>\n",
              "      <td>NaN</td>\n",
              "      <td>NaN</td>\n",
              "      <td>NaN</td>\n",
              "      <td>NaN</td>\n",
              "      <td>NaN</td>\n",
              "      <td>NaN</td>\n",
              "    </tr>\n",
              "    <tr>\n",
              "      <th>4</th>\n",
              "      <td>Abnormal involuntary movements</td>\n",
              "      <td>781.0</td>\n",
              "      <td>atropine,hyoscyamine sulfate,baclofen,belladon...</td>\n",
              "      <td>49</td>\n",
              "      <td>atropine</td>\n",
              "      <td>hyoscyamine sulfate</td>\n",
              "      <td>baclofen</td>\n",
              "      <td>belladonna alkaloids</td>\n",
              "      <td>diphenhydramine hydrochloride</td>\n",
              "      <td>butylscopolamine bromide</td>\n",
              "      <td>carisoprodol</td>\n",
              "      <td>chlormezanone</td>\n",
              "      <td>chlorphenesin</td>\n",
              "      <td>chlorzoxazone</td>\n",
              "      <td>clonazepam</td>\n",
              "      <td>clonidine</td>\n",
              "      <td>dantrolene</td>\n",
              "      <td>dantrolene sodium</td>\n",
              "      <td>dextromethorphan</td>\n",
              "      <td>diazepam</td>\n",
              "      <td>dicyclomine</td>\n",
              "      <td>diphenhydramine</td>\n",
              "      <td>epinephrine</td>\n",
              "      <td>ibuprofen</td>\n",
              "      <td>meprobamate</td>\n",
              "      <td>methocarbamol</td>\n",
              "      <td>nifedipine</td>\n",
              "      <td>orphenadrine</td>\n",
              "      <td>orphenadrine citrate</td>\n",
              "      <td>papaverine</td>\n",
              "      <td>prazepam</td>\n",
              "      <td>primidone</td>\n",
              "      <td>propantheline</td>\n",
              "      <td>propranolol</td>\n",
              "      <td>tolazoline</td>\n",
              "      <td>cyclobenzaprine</td>\n",
              "      <td>oxybutynin</td>\n",
              "      <td>sertraline</td>\n",
              "      <td>cyclobenzaprine hydrochloride</td>\n",
              "      <td>oxybutynin chloride</td>\n",
              "      <td>...</td>\n",
              "      <td>NaN</td>\n",
              "      <td>NaN</td>\n",
              "      <td>NaN</td>\n",
              "      <td>NaN</td>\n",
              "      <td>NaN</td>\n",
              "      <td>NaN</td>\n",
              "      <td>NaN</td>\n",
              "      <td>NaN</td>\n",
              "      <td>NaN</td>\n",
              "      <td>NaN</td>\n",
              "      <td>NaN</td>\n",
              "      <td>NaN</td>\n",
              "      <td>NaN</td>\n",
              "      <td>NaN</td>\n",
              "      <td>NaN</td>\n",
              "      <td>NaN</td>\n",
              "      <td>NaN</td>\n",
              "      <td>NaN</td>\n",
              "      <td>NaN</td>\n",
              "      <td>NaN</td>\n",
              "      <td>NaN</td>\n",
              "      <td>NaN</td>\n",
              "      <td>NaN</td>\n",
              "      <td>NaN</td>\n",
              "      <td>NaN</td>\n",
              "      <td>NaN</td>\n",
              "      <td>NaN</td>\n",
              "      <td>NaN</td>\n",
              "      <td>NaN</td>\n",
              "      <td>NaN</td>\n",
              "      <td>NaN</td>\n",
              "      <td>NaN</td>\n",
              "      <td>NaN</td>\n",
              "      <td>NaN</td>\n",
              "      <td>NaN</td>\n",
              "      <td>NaN</td>\n",
              "      <td>NaN</td>\n",
              "      <td>NaN</td>\n",
              "      <td>NaN</td>\n",
              "      <td>NaN</td>\n",
              "    </tr>\n",
              "  </tbody>\n",
              "</table>\n",
              "<p>5 rows × 118 columns</p>\n",
              "</div>"
            ],
            "text/plain": [
              "                                          indication    icd9  ...  112  113\n",
              "0                                     Abdominal pain   789.0  ...  NaN  NaN\n",
              "1  Abdominal pain; other specified site; multiple...  789.09  ...  NaN  NaN\n",
              "2                   Abdominal pain; unspecified site   789.0  ...  NaN  NaN\n",
              "3                                     Abnormal feces   787.7  ...  NaN  NaN\n",
              "4                     Abnormal involuntary movements   781.0  ...  NaN  NaN\n",
              "\n",
              "[5 rows x 118 columns]"
            ]
          },
          "metadata": {
            "tags": []
          },
          "execution_count": 76
        }
      ]
    },
    {
      "cell_type": "code",
      "metadata": {
        "id": "wyWJRWKGESSQ"
      },
      "source": [
        "longdf.to_excel(\"drug_ind_longdf.xlsx\", index=False)"
      ],
      "execution_count": null,
      "outputs": []
    },
    {
      "cell_type": "markdown",
      "metadata": {
        "id": "40UWfSNtDpbo"
      },
      "source": [
        "### Change the data so that each column corresponds to a drug. \n",
        "\n",
        "insert column \"flavoxate\""
      ]
    },
    {
      "cell_type": "markdown",
      "metadata": {
        "id": "IgAmkzsRDOMF"
      },
      "source": [
        "Remove columns that have no data"
      ]
    },
    {
      "cell_type": "code",
      "metadata": {
        "id": "SnA2ro84DN7Q"
      },
      "source": [
        "longdf.dropna(axis=1, how= 'all', thresh=None, subset=None, inplace=True)\n",
        "longdf.tail()"
      ],
      "execution_count": null,
      "outputs": []
    },
    {
      "cell_type": "markdown",
      "metadata": {
        "id": "zPwsmtcE_Vrg"
      },
      "source": [
        "## Split the columns"
      ]
    },
    {
      "cell_type": "code",
      "metadata": {
        "colab": {
          "base_uri": "https://localhost:8080/"
        },
        "id": "bRrTy-49A4eG",
        "outputId": "90536203-ea3b-480a-f664-c1d2151162db"
      },
      "source": [
        "df['drug1'], df['drug2'] = df['drug_desc'].str.split(',', 1).str"
      ],
      "execution_count": null,
      "outputs": [
        {
          "output_type": "stream",
          "text": [
            "/usr/local/lib/python3.6/dist-packages/ipykernel_launcher.py:1: FutureWarning: Columnar iteration over characters will be deprecated in future releases.\n",
            "  \"\"\"Entry point for launching an IPython kernel.\n"
          ],
          "name": "stderr"
        }
      ]
    }
  ]
}